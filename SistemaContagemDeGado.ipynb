{
 "cells": [
  {
   "cell_type": "code",
   "execution_count": null,
   "metadata": {},
   "outputs": [],
   "source": [
    "#Exibir a imagem original\n",
    "import cv2\n",
    "\n",
    "img = cv2.imread('gadobase.jfif')\n",
    "cv2.imshow('Imagem Original',img)\n",
    "cv2.waitKey(0)  \n",
    "cv2.destroyAllWindows()"
   ]
  },
  {
   "cell_type": "code",
   "execution_count": null,
   "metadata": {},
   "outputs": [],
   "source": [
    "#Exibir somente bordar ultilizadi filtro Canny\n",
    "import numpy as np\n",
    "\n",
    "limiar_inferior =150\n",
    "limiar_superior =90\n",
    "\n",
    "kernal = np.ones((2,1), np.uint8)\n",
    "img1 =  cv2.Canny(img,limiar_inferior,limiar_superior,kernal)\n",
    "cv2.imshow('Somente Bordas',img1)\n",
    "cv2.waitKey(0)\n",
    "cv2.destroyAllWindows()"
   ]
  },
  {
   "cell_type": "code",
   "execution_count": 51,
   "metadata": {},
   "outputs": [],
   "source": [
    "#contagem de bordas \n",
    "\n",
    "dilation = cv2.dilate(img1, kernal)\n",
    "\n",
    "contours, hierarchy = cv2.findContours(\n",
    "    dilation, cv2.RETR_EXTERNAL, cv2.CHAIN_APPROX_SIMPLE)\n",
    "\n",
    "objects = str(len(contours))\n",
    "\n",
    "text = \"Quantidade de Gado: \"+str(objects)\n",
    "cv2.putText(dilation, text, (10, 25),  cv2.FONT_HERSHEY_SIMPLEX,\n",
    "            0.4, (255, 0, 0), 1)\n",
    "\n",
    "cv2.imshow('Original', img1)\n",
    "cv2.imshow('Processada', dilation)\n",
    "\n",
    "cv2.waitKey(0)\n",
    "cv2.destroyAllWindows()"
   ]
  },
  {
   "cell_type": "code",
   "execution_count": 53,
   "metadata": {},
   "outputs": [
    {
     "data": {
      "image/png": "[encoded data removed]",
      "text/plain": [
       "<Figure size 432x288 with 1 Axes>"
      ]
     },
     "metadata": {
      "needs_background": "light"
     },
     "output_type": "display_data"
    },
    {
     "data": {
      "text/plain": [
       "array([0, 0, 0, ..., 0, 0, 0], dtype=uint8)"
      ]
     },
     "execution_count": 53,
     "metadata": {},
     "output_type": "execute_result"
    }
   ],
   "source": [
    "#histrograma da imagem com bordas\n",
    "\n",
    "import cv2\n",
    "import numpy as np\n",
    "from matplotlib import pyplot as plt\n",
    "\n",
    "img = img1 #o que se conclui dessa imagem?\n",
    "# img = cv2.imread('../homem.jpg',0)  # e dessa?\n",
    "\n",
    "\n",
    "# plt.hist(img.ravel(),10,[0,256],color='grey')\n",
    "plt.hist(img.ravel(),50,[0,256])\n",
    "# plt.hist(img.ravel(),256,[0,256],color='grey')\n",
    "plt.show()\n",
    "\n",
    "histograma = img.ravel()\n",
    "histograma"
   ]
  },
  {
   "cell_type": "code",
   "execution_count": 52,
   "metadata": {},
   "outputs": [
    {
     "data": {
      "image/png": "[encoded data removed]",
      "text/plain": [
       "<Figure size 432x288 with 1 Axes>"
      ]
     },
     "metadata": {
      "needs_background": "light"
     },
     "output_type": "display_data"
    },
    {
     "data": {
      "text/plain": [
       "array([120, 111, 110, ...,  87, 102, 111], dtype=uint8)"
      ]
     },
     "execution_count": 52,
     "metadata": {},
     "output_type": "execute_result"
    }
   ],
   "source": [
    "#histrograma da imagem original\n",
    "\n",
    "import cv2\n",
    "import numpy as np\n",
    "from matplotlib import pyplot as plt\n",
    "\n",
    "img = cv2.imread('gadobase.jfif',0) #o que se conclui dessa imagem?\n",
    "# img = cv2.imread('../homem.jpg',0)  # e dessa?\n",
    "\n",
    "\n",
    "# plt.hist(img.ravel(),10,[0,256],color='grey')\n",
    "plt.hist(img.ravel(),50,[0,256])\n",
    "# plt.hist(img.ravel(),256,[0,256],color='grey')\n",
    "plt.show()\n",
    "\n",
    "histograma = img.ravel()\n",
    "histograma"
   ]
  },
  {
   "cell_type": "code",
   "execution_count": null,
   "metadata": {},
   "outputs": [],
   "source": []
  },
  {
   "cell_type": "code",
   "execution_count": 1,
   "metadata": {},
   "outputs": [],
   "source": [
    "\n"
   ]
  },
  {
   "cell_type": "code",
   "execution_count": null,
   "metadata": {},
   "outputs": [],
   "source": []
  },
  {
   "cell_type": "code",
   "execution_count": null,
   "metadata": {},
   "outputs": [],
   "source": []
  },
  {
   "cell_type": "code",
   "execution_count": null,
   "metadata": {},
   "outputs": [],
   "source": []
  },
  {
   "cell_type": "code",
   "execution_count": null,
   "metadata": {},
   "outputs": [],
   "source": []
  }
 ],
 "metadata": {
  "kernelspec": {
   "display_name": "Python 3",
   "language": "python",
   "name": "python3"
  },
  "language_info": {
   "codemirror_mode": {
    "name": "ipython",
    "version": 3
   },
   "file_extension": ".py",
   "mimetype": "text/x-python",
   "name": "python",
   "nbconvert_exporter": "python",
   "pygments_lexer": "ipython3",
   "version": "3.8.5"
  }
 },
 "nbformat": 4,
 "nbformat_minor": 4
}
